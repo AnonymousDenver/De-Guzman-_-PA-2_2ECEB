{
 "cells": [
  {
   "cell_type": "markdown",
   "id": "e34630b9-0a84-41f9-a3fe-2e831fd706d1",
   "metadata": {},
   "source": []
  },
  {
   "cell_type": "code",
   "execution_count": null,
   "id": "b11f65db-d3a0-45cd-a831-2c8d056f6cab",
   "metadata": {},
   "outputs": [],
   "source": [
    "import numpy as np  #To access numpy liblary "
   ]
  },
  {
   "cell_type": "code",
   "execution_count": 43,
   "id": "da5c80a3-f102-4b27-a70e-4a05702d45ea",
   "metadata": {},
   "outputs": [
    {
     "data": {
      "text/plain": [
       "array([[ 0.42743291,  0.26600855,  0.19432866, -1.18562357,  0.57291035],\n",
       "       [-0.79040797, -0.01915844,  0.50009955, -1.53637453, -1.49701955],\n",
       "       [ 0.55428286, -0.23795554, -1.59906255,  0.47003562, -1.61671125],\n",
       "       [ 1.38578696, -0.1359731 ,  1.55685303,  2.0462942 ,  0.05021344],\n",
       "       [-0.91576351, -0.6723675 ,  0.95596652,  0.27127587,  0.95492899]])"
      ]
     },
     "execution_count": 43,
     "metadata": {},
     "output_type": "execute_result"
    }
   ],
   "source": [
    "\n",
    "# Step 1: Create a random 5x5 ndarray\n",
    "X = np.random.random((5, 5))\n",
    "\n",
    "# Step 2: Calculate the mean and standard deviation of X\n",
    "mean_X = X.mean()\n",
    "std_X = X.std()\n",
    "\n",
    "# Step 3: Normalize the array\n",
    "X_normalized = (X - mean_X) / std_X\n",
    "\n",
    "# Step 4: Save the normalized array to a file\n",
    "np.save('X_normalized.npy', X_normalized)\n"
   ]
  },
  {
   "cell_type": "code",
   "execution_count": null,
   "id": "c815a1e2-577f-49c2-b2a6-076f766fa58a",
   "metadata": {},
   "outputs": [],
   "source": []
  }
 ],
 "metadata": {
  "kernelspec": {
   "display_name": "Python 3 (ipykernel)",
   "language": "python",
   "name": "python3"
  },
  "language_info": {
   "codemirror_mode": {
    "name": "ipython",
    "version": 3
   },
   "file_extension": ".py",
   "mimetype": "text/x-python",
   "name": "python",
   "nbconvert_exporter": "python",
   "pygments_lexer": "ipython3",
   "version": "3.12.4"
  }
 },
 "nbformat": 4,
 "nbformat_minor": 5
}
