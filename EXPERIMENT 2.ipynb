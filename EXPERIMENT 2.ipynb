{
 "cells": [
  {
   "cell_type": "markdown",
   "id": "793752bb-febf-48a7-baa8-b6a7257b0b75",
   "metadata": {},
   "source": [
    "## NORMALIZATION PROBLEM\n"
   ]
  },
  {
   "cell_type": "code",
   "execution_count": 5,
   "id": "24377871-cbe5-484a-9395-e882b471e4ed",
   "metadata": {},
   "outputs": [],
   "source": [
    "import numpy as np  #To access numpy liblary \n",
    "\n",
    "\n",
    "# Step 1: Create a random 5x5 ndarray\n",
    "X = np.random.random((5, 5))\n",
    "\n",
    "# Step 2: Calculate the mean and standard deviation of X\n",
    "mean_X = X.mean()\n",
    "std_X = X.std()\n",
    "\n",
    "# Step 3: Normalize the array\n",
    "X_normalized = (X - mean_X) / std_X\n",
    "\n",
    "# Step 4: Save the normalized array to a file\n",
    "np.save('X_normalized.npy', X_normalized)\n"
   ]
  },
  {
   "cell_type": "markdown",
   "id": "51118c27-feb1-4043-982c-c923c8969e5b",
   "metadata": {},
   "source": [
    "## DIVISIBLE BY 3 PROBLEM"
   ]
  },
  {
   "cell_type": "code",
   "execution_count": null,
   "id": "a16574a8-fdb0-4eb2-9daa-ed56d70db066",
   "metadata": {},
   "outputs": [],
   "source": [
    "import numpy as np\n",
    "\n",
    "# Step 1: Create an array of the first 100 positive integers\n",
    "integers = np.arange(1, 101)\n",
    "\n",
    "# Step 2: Square each element in the array and storing in a variable\n",
    "squares = integers**2\n",
    "\n",
    "# Step 3: Reshaping the 9x9 into a 10x10 matrix and store to variable \"A\"\n",
    "A = squares.reshape(10, 10)\n",
    "\n",
    "# Step 4: Identify elements divisible by 3\n",
    "divisible_by_3 = A[A % 3 == 0]\n",
    "\n",
    "# Step 5: Save the result to a file\n",
    "np.save('div_by_3.npy', divisible_by_3)\n",
    "\n"
   ]
  }
 ],
 "metadata": {
  "kernelspec": {
   "display_name": "Python 3 (ipykernel)",
   "language": "python",
   "name": "python3"
  },
  "language_info": {
   "codemirror_mode": {
    "name": "ipython",
    "version": 3
   },
   "file_extension": ".py",
   "mimetype": "text/x-python",
   "name": "python",
   "nbconvert_exporter": "python",
   "pygments_lexer": "ipython3",
   "version": "3.12.4"
  }
 },
 "nbformat": 4,
 "nbformat_minor": 5
}
