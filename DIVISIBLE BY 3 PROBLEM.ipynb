{
 "cells": [
  {
   "cell_type": "code",
   "execution_count": 2,
   "id": "905097c9-beff-4ce3-accc-da0583bfb322",
   "metadata": {},
   "outputs": [],
   "source": []
  },
  {
   "cell_type": "code",
   "execution_count": 8,
   "id": "02234a19-d875-49f5-9096-173e813f7cae",
   "metadata": {},
   "outputs": [],
   "source": [
    "import numpy as np # Use to access and create numpy files"
   ]
  },
  {
   "cell_type": "code",
   "execution_count": null,
   "id": "f92b8c6e-dc9e-4078-9f4d-97be4ac0c2c4",
   "metadata": {},
   "outputs": [],
   "source": [
    "integers = np.arange (1,101)\n",
    "squares = integers**2\n",
    "A = squares.reshape (10,10)\n"
   ]
  }
 ],
 "metadata": {
  "kernelspec": {
   "display_name": "Python 3 (ipykernel)",
   "language": "python",
   "name": "python3"
  },
  "language_info": {
   "codemirror_mode": {
    "name": "ipython",
    "version": 3
   },
   "file_extension": ".py",
   "mimetype": "text/x-python",
   "name": "python",
   "nbconvert_exporter": "python",
   "pygments_lexer": "ipython3",
   "version": "3.12.4"
  }
 },
 "nbformat": 4,
 "nbformat_minor": 5
}
