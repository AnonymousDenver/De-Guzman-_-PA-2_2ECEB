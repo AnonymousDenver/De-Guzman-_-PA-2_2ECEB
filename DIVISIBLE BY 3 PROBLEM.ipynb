{
 "cells": [
  {
   "cell_type": "code",
   "execution_count": 2,
   "id": "905097c9-beff-4ce3-accc-da0583bfb322",
   "metadata": {},
   "outputs": [],
   "source": []
  },
  {
   "cell_type": "code",
   "execution_count": 8,
   "id": "02234a19-d875-49f5-9096-173e813f7cae",
   "metadata": {},
   "outputs": [],
   "source": [
    "import numpy as np # Use to access and create numpy files"
   ]
  },
  {
   "cell_type": "code",
   "execution_count": 12,
   "id": "f92b8c6e-dc9e-4078-9f4d-97be4ac0c2c4",
   "metadata": {},
   "outputs": [
    {
     "data": {
      "text/plain": [
       "array([   9,   36,   81,  144,  225,  324,  441,  576,  729,  900, 1089,\n",
       "       1296, 1521, 1764, 2025, 2304, 2601, 2916, 3249, 3600, 3969, 4356,\n",
       "       4761, 5184, 5625, 6084, 6561, 7056, 7569, 8100, 8649, 9216, 9801])"
      ]
     },
     "execution_count": 12,
     "metadata": {},
     "output_type": "execute_result"
    }
   ],
   "source": [
    "import numpy as np\n",
    "\n",
    "# Step 1: Create an array of the first 100 positive integers\n",
    "integers = np.arange(1, 101)\n",
    "\n",
    "# Step 2: Square each element in the array and storing in a variable\n",
    "squares = integers**2\n",
    "\n",
    "# Step 3: Reshaping the 9x9 into a 10x10 matrix and store to variable \"A\"\n",
    "A = squares.reshape(10, 10)\n",
    "\n",
    "# Step 4: Identify elements divisible by 3\n",
    "divisible_by_3 = A[A % 3 == 0]\n",
    "\n",
    "# Step 5: Save the result to a file\n",
    "np.save('div_by_3.npy', divisible_by_3)\n",
    "\n"
   ]
  },
  {
   "cell_type": "code",
   "execution_count": null,
   "id": "349a09a1-1a26-48e7-8768-305a0c1c3ff2",
   "metadata": {},
   "outputs": [],
   "source": []
  }
 ],
 "metadata": {
  "kernelspec": {
   "display_name": "Python 3 (ipykernel)",
   "language": "python",
   "name": "python3"
  },
  "language_info": {
   "codemirror_mode": {
    "name": "ipython",
    "version": 3
   },
   "file_extension": ".py",
   "mimetype": "text/x-python",
   "name": "python",
   "nbconvert_exporter": "python",
   "pygments_lexer": "ipython3",
   "version": "3.12.4"
  }
 },
 "nbformat": 4,
 "nbformat_minor": 5
}
